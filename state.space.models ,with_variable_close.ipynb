{
 "cells": [
  {
   "cell_type": "code",
   "execution_count": 2,
   "id": "ea18eb7b",
   "metadata": {},
   "outputs": [],
   "source": [
    "import pandas as pd\n",
    "import numpy as np\n",
    "import statsmodels.api as sm"
   ]
  },
  {
   "cell_type": "code",
   "execution_count": 3,
   "id": "15739ccd",
   "metadata": {},
   "outputs": [
    {
     "data": {
      "text/html": [
       "<div>\n",
       "<style scoped>\n",
       "    .dataframe tbody tr th:only-of-type {\n",
       "        vertical-align: middle;\n",
       "    }\n",
       "\n",
       "    .dataframe tbody tr th {\n",
       "        vertical-align: top;\n",
       "    }\n",
       "\n",
       "    .dataframe thead th {\n",
       "        text-align: right;\n",
       "    }\n",
       "</style>\n",
       "<table border=\"1\" class=\"dataframe\">\n",
       "  <thead>\n",
       "    <tr style=\"text-align: right;\">\n",
       "      <th></th>\n",
       "      <th>Date</th>\n",
       "      <th>Open</th>\n",
       "      <th>High</th>\n",
       "      <th>Low</th>\n",
       "      <th>Close</th>\n",
       "      <th>Adj Close</th>\n",
       "      <th>Volume</th>\n",
       "    </tr>\n",
       "  </thead>\n",
       "  <tbody>\n",
       "    <tr>\n",
       "      <th>0</th>\n",
       "      <td>1/2/2015</td>\n",
       "      <td>26.378078</td>\n",
       "      <td>26.490770</td>\n",
       "      <td>26.133251</td>\n",
       "      <td>26.168653</td>\n",
       "      <td>26.168653</td>\n",
       "      <td>28951268</td>\n",
       "    </tr>\n",
       "    <tr>\n",
       "      <th>1</th>\n",
       "      <td>1/5/2015</td>\n",
       "      <td>26.091366</td>\n",
       "      <td>26.144720</td>\n",
       "      <td>25.582764</td>\n",
       "      <td>25.623152</td>\n",
       "      <td>25.623152</td>\n",
       "      <td>41196796</td>\n",
       "    </tr>\n",
       "    <tr>\n",
       "      <th>2</th>\n",
       "      <td>1/6/2015</td>\n",
       "      <td>25.679497</td>\n",
       "      <td>25.738087</td>\n",
       "      <td>24.983908</td>\n",
       "      <td>25.029282</td>\n",
       "      <td>25.029282</td>\n",
       "      <td>57998800</td>\n",
       "    </tr>\n",
       "    <tr>\n",
       "      <th>3</th>\n",
       "      <td>1/7/2015</td>\n",
       "      <td>25.280592</td>\n",
       "      <td>25.292759</td>\n",
       "      <td>24.914099</td>\n",
       "      <td>24.986401</td>\n",
       "      <td>24.986401</td>\n",
       "      <td>41301082</td>\n",
       "    </tr>\n",
       "    <tr>\n",
       "      <th>4</th>\n",
       "      <td>1/8/2015</td>\n",
       "      <td>24.831326</td>\n",
       "      <td>25.105074</td>\n",
       "      <td>24.482782</td>\n",
       "      <td>25.065184</td>\n",
       "      <td>25.065184</td>\n",
       "      <td>67071641</td>\n",
       "    </tr>\n",
       "  </tbody>\n",
       "</table>\n",
       "</div>"
      ],
      "text/plain": [
       "       Date       Open       High        Low      Close  Adj Close    Volume\n",
       "0  1/2/2015  26.378078  26.490770  26.133251  26.168653  26.168653  28951268\n",
       "1  1/5/2015  26.091366  26.144720  25.582764  25.623152  25.623152  41196796\n",
       "2  1/6/2015  25.679497  25.738087  24.983908  25.029282  25.029282  57998800\n",
       "3  1/7/2015  25.280592  25.292759  24.914099  24.986401  24.986401  41301082\n",
       "4  1/8/2015  24.831326  25.105074  24.482782  25.065184  25.065184  67071641"
      ]
     },
     "execution_count": 3,
     "metadata": {},
     "output_type": "execute_result"
    }
   ],
   "source": [
    "data = pd.read_csv('GOOG.csv')\n",
    "data.head()"
   ]
  },
  {
   "cell_type": "code",
   "execution_count": 4,
   "id": "ecdd5ebc",
   "metadata": {},
   "outputs": [],
   "source": [
    "# Prepare the data\n",
    "series = data['Close']  # Select the variable you want to analyze\n"
   ]
  },
  {
   "cell_type": "code",
   "execution_count": 5,
   "id": "73f4d2a6",
   "metadata": {},
   "outputs": [],
   "source": [
    "# Create the state space model\n",
    "model = sm.tsa.UnobservedComponents(series, 'local level')"
   ]
  },
  {
   "cell_type": "code",
   "execution_count": 6,
   "id": "876240bb",
   "metadata": {},
   "outputs": [],
   "source": [
    "# Fit the model to the data\n",
    "model_fit = model.fit()"
   ]
  },
  {
   "cell_type": "code",
   "execution_count": 7,
   "id": "b7c49c5f",
   "metadata": {},
   "outputs": [
    {
     "name": "stdout",
     "output_type": "stream",
     "text": [
      "                        Unobserved Components Results                         \n",
      "==============================================================================\n",
      "Dep. Variable:                  Close   No. Observations:                 2108\n",
      "Model:                    local level   Log Likelihood               -3800.269\n",
      "Date:                Thu, 25 May 2023   AIC                           7604.538\n",
      "Time:                        21:36:26   BIC                           7615.845\n",
      "Sample:                             0   HQIC                          7608.679\n",
      "                               - 2108                                         \n",
      "Covariance Type:                  opg                                         \n",
      "====================================================================================\n",
      "                       coef    std err          z      P>|z|      [0.025      0.975]\n",
      "------------------------------------------------------------------------------------\n",
      "sigma2.irregular     0.0934      0.029      3.195      0.001       0.036       0.151\n",
      "sigma2.level         1.9758      0.065     30.239      0.000       1.848       2.104\n",
      "===================================================================================\n",
      "Ljung-Box (L1) (Q):                   0.00   Jarque-Bera (JB):              3919.42\n",
      "Prob(Q):                              0.98   Prob(JB):                         0.00\n",
      "Heteroskedasticity (H):              20.35   Skew:                            -0.03\n",
      "Prob(H) (two-sided):                  0.00   Kurtosis:                         9.68\n",
      "===================================================================================\n",
      "\n",
      "Warnings:\n",
      "[1] Covariance matrix calculated using the outer product of gradients (complex-step).\n"
     ]
    }
   ],
   "source": [
    "# Print the summary of the model fit\n",
    "print(model_fit.summary())\n"
   ]
  },
  {
   "cell_type": "code",
   "execution_count": 8,
   "id": "cf797aae",
   "metadata": {},
   "outputs": [
    {
     "name": "stdout",
     "output_type": "stream",
     "text": [
      "sigma2.irregular    0.093352\n",
      "sigma2.level        1.975795\n",
      "dtype: float64\n"
     ]
    }
   ],
   "source": [
    "# Access the estimated parameters\n",
    "estimated_params = model_fit.params\n",
    "print(estimated_params)"
   ]
  },
  {
   "cell_type": "code",
   "execution_count": 9,
   "id": "bbf01c08",
   "metadata": {},
   "outputs": [],
   "source": [
    "# Access the predicted values\n",
    "predicted_values = model_fit.predict(start=0, end=len(series)-1)\n"
   ]
  },
  {
   "cell_type": "code",
   "execution_count": 10,
   "id": "d5acb85e",
   "metadata": {},
   "outputs": [
    {
     "data": {
      "image/png": "[encoded data removed]",
      "text/plain": [
       "<Figure size 640x480 with 1 Axes>"
      ]
     },
     "metadata": {},
     "output_type": "display_data"
    }
   ],
   "source": [
    "# Plot the observed and predicted values\n",
    "import matplotlib.pyplot as plt\n",
    "plt.plot(series, label='Observed')\n",
    "plt.plot(predicted_values, label='Predicted')\n",
    "plt.legend()\n",
    "plt.show()"
   ]
  },
  {
   "cell_type": "code",
   "execution_count": null,
   "id": "38daae0b",
   "metadata": {},
   "outputs": [],
   "source": []
  }
 ],
 "metadata": {
  "kernelspec": {
   "display_name": "Python 3 (ipykernel)",
   "language": "python",
   "name": "python3"
  },
  "language_info": {
   "codemirror_mode": {
    "name": "ipython",
    "version": 3
   },
   "file_extension": ".py",
   "mimetype": "text/x-python",
   "name": "python",
   "nbconvert_exporter": "python",
   "pygments_lexer": "ipython3",
   "version": "3.11.1"
  }
 },
 "nbformat": 4,
 "nbformat_minor": 5
}
